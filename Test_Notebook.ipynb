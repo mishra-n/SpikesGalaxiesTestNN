{
 "cells": [
  {
   "cell_type": "code",
   "execution_count": 1,
   "metadata": {},
   "outputs": [],
   "source": [
    "import numpy as np\n",
    "import matplotlib.pyplot as plt\n",
    "import scipy.signal as signal\n",
    "import scipy.interpolate as interp\n",
    "import scipy as sp\n",
    "import re\n",
    "import tensorflow as tf\n",
    "import tensorflow.keras as keras\n",
    "from helper_functions import *\n"
   ]
  },
  {
   "cell_type": "code",
   "execution_count": null,
   "metadata": {},
   "outputs": [
    {
     "name": "stdout",
     "output_type": "stream",
     "text": [
      "1\n"
     ]
    },
    {
     "name": "stderr",
     "output_type": "stream",
     "text": [
      "/data/gnedin/soft/anaconda3/lib/python3.7/site-packages/numpy/core/function_base.py:274: RuntimeWarning: overflow encountered in power\n",
      "  return _nx.power(base, y)\n",
      "/data/gnedin/soft/anaconda3/lib/python3.7/site-packages/numpy/lib/function_base.py:1269: RuntimeWarning: invalid value encountered in subtract\n",
      "  a = op(a[slice1], a[slice2])\n"
     ]
    },
    {
     "name": "stdout",
     "output_type": "stream",
     "text": [
      "2\n",
      "3\n",
      "4\n",
      "5\n",
      "6\n",
      "7\n",
      "8\n",
      "9\n"
     ]
    }
   ],
   "source": [
    "#create dataset\n",
    "data = []\n",
    "truth = []\n",
    "\n",
    "#Each loop picks a skewer, and labels the galaxies near to it. \n",
    "#There is double counting probably if skewers pass near each other, but this is fine\n",
    "#A galaxy can impact more than one LOS\n",
    "LOS_num = 20\n",
    "#parameters for binning. Adjust this to get finer and wider bins\n",
    "distance_along_LOS_bins = 100\n",
    "mass_bins = 10\n",
    "radial_bins = 10\n",
    "\n",
    "for i in np.arange(1,LOS_num+1):\n",
    "    #see how far along this part is\n",
    "    print(i)\n",
    "    #pulling data from galaxies\n",
    "    flux_path = '/data/gnedin/REI/D/Cai.B40.N256L2.sf=1_uv=0.15_bw=10_res=100.WC1/A/a=0.1452/los/los.00' + '{0:03}'.format(i) +'.raw'\n",
    "\n",
    "    temp = get_galaxies(\"/data/gnedin/REI/D/Cai.B40.N256L2.sf=1_uv=0.15_bw=10_res=100.WC1/A/a=0.1452/hprops.res\", flux_path, i)\n",
    "    \n",
    "    #setting up the bins in which we will categorize our galaxies\n",
    "    temp = np.swapaxes(temp, 0, 1)[:, 0:3]\n",
    "    #mass\n",
    "    bin1 = np.logspace(min(temp[:,0]), max(temp[:,0]), mass_bins+1)\n",
    "    #along LOS\n",
    "    bin2 = np.linspace(5,95, distance_along_LOS_bins+1)\n",
    "    #radial distance\n",
    "    bin3 = np.linspace(min(temp[:,2]), max(temp[:,2]), radial_bins+1)\n",
    "    H, edges = np.histogramdd(temp, bins=(bin1, bin2, bin3))\n",
    "    \n",
    "    #pulling truth (what we are trying to predict) from the flux\n",
    "    flux_path = '/data/gnedin/REI/D/Cai.B40.N256L2.sf=1_uv=0.15_bw=10_res=100.WC1/A/a=0.1452/los/los.00' + '{0:03}'.format(i) +'.fHI'\n",
    "\n",
    "    #converting to distance from velocity.\n",
    "    velocity, flux = unPackRawFlux(flux_path)\n",
    "    flux_distance = hubble_flow_convert(velocity, a=0.1452, omega_m=0.3036, omega_lam=0.6964)\n",
    "    \n",
    "    #they are slightly different lengths so we chop off the ends. Because of peculiar velocity we will lose some info\n",
    "    new_flux_distance = np.linspace(5,95, 16000)\n",
    "    new_flux = resample(flux_distance, flux, new_flux_distance)\n",
    "    \n",
    "    flux_temp = new_flux.reshape(int(new_flux.shape[0]/160), 160).mean(axis=1)\n",
    "    \n",
    "    if len(data)==0:\n",
    "        data = np.array([H])\n",
    "        truth = np.array([flux_temp])\n",
    "    else:\n",
    "        data = np.append(data, [H], axis=0)\n",
    "        truth = np.append(truth, [flux_temp], axis=0)\n",
    "\n",
    "data = data.reshape(LOS_num, 10, 100, 10, 1)\n",
    "#correction for the future (probably could write this better later to be honest)\n",
    "data = np.swapaxes(data, 2, 3)\n",
    "\n",
    "#Now we have a data array, and truth array to test it against"
   ]
  },
  {
   "cell_type": "code",
   "execution_count": null,
   "metadata": {},
   "outputs": [],
   "source": [
    "#check shapes\n",
    "print(truth.shape)\n",
    "print(data.shape)"
   ]
  },
  {
   "cell_type": "code",
   "execution_count": null,
   "metadata": {},
   "outputs": [],
   "source": [
    "tf.compat.v1.reset_default_graph()\n",
    "\n",
    "def build_and_compile_model():\n",
    "    model = keras.Sequential([\n",
    "        keras.layers.InputLayer(input_shape=(10, 10, distance_along_LOS_bins, 1)),\n",
    "        keras.layers.Conv3D(filters=1, kernel_size=(mass_bins, 1, 1)),\n",
    "        keras.layers.Conv3D(filters=1, kernel_size=(1, radial_bins, 1)),\n",
    "        keras.layers.Flatten(),\n",
    "        keras.layers.Dense(100),\n",
    "\n",
    "    ])\n",
    "    \n",
    "    model.compile(loss='mean_squared_error',\n",
    "                optimizer=keras.optimizers.Adam(0.0005))\n",
    "    \n",
    "    return model"
   ]
  },
  {
   "cell_type": "code",
   "execution_count": null,
   "metadata": {},
   "outputs": [],
   "source": [
    "#build NN and check that it worked, and all dimensions are right\n",
    "galaxies_spikes = build_and_compile_model()\n",
    "galaxies_spikes.summary()"
   ]
  },
  {
   "cell_type": "code",
   "execution_count": null,
   "metadata": {},
   "outputs": [],
   "source": [
    "#train\n",
    "history = galaxies_spikes.fit(data, truth, epochs=100)"
   ]
  },
  {
   "cell_type": "code",
   "execution_count": null,
   "metadata": {},
   "outputs": [],
   "source": [
    "def plot_loss(history):\n",
    "    plt.plot(history.history['loss'], label='loss')\n",
    "    plt.xlabel('Epoch')\n",
    "    plt.ylabel('Error')\n",
    "    plt.legend()\n",
    "    plt.grid(True)\n",
    "plot_loss(history)"
   ]
  },
  {
   "cell_type": "code",
   "execution_count": null,
   "metadata": {},
   "outputs": [],
   "source": [
    "#see if the predictions are actually working. Note, we didn't set aside test data yet.\n",
    "#I haven't gotten anything to work, so I'm skipping that for now\n",
    "pred = galaxies_spikes.predict(data)\n",
    "print(pred.shape)\n",
    "plt.plot(pred[0,:]*1)\n",
    "plt.plot(truth[0,:])\n",
    "plt.show()"
   ]
  },
  {
   "cell_type": "code",
   "execution_count": null,
   "metadata": {},
   "outputs": [],
   "source": []
  }
 ],
 "metadata": {
  "kernelspec": {
   "display_name": "Python 3",
   "language": "python",
   "name": "python3"
  },
  "language_info": {
   "codemirror_mode": {
    "name": "ipython",
    "version": 3
   },
   "file_extension": ".py",
   "mimetype": "text/x-python",
   "name": "python",
   "nbconvert_exporter": "python",
   "pygments_lexer": "ipython3",
   "version": "3.7.6"
  }
 },
 "nbformat": 4,
 "nbformat_minor": 4
}
