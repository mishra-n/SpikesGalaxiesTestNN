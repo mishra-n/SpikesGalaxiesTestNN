{
 "cells": [
  {
   "cell_type": "code",
   "execution_count": 13,
   "metadata": {},
   "outputs": [],
   "source": [
    "from helper_functions import *\n",
    "import numpy as np\n",
    "import matplotlib.pyplot as plt\n",
    "import scipy.signal as signal\n",
    "import scipy.interpolate as interp\n",
    "import scipy as sp\n",
    "import re\n",
    "import tensorflow as tf\n",
    "import tensorflow.keras as keras"
   ]
  },
  {
   "cell_type": "code",
   "execution_count": 21,
   "metadata": {},
   "outputs": [
    {
     "name": "stdout",
     "output_type": "stream",
     "text": [
      "1\n",
      "2\n",
      "3\n",
      "4\n",
      "5\n",
      "6\n",
      "7\n",
      "8\n",
      "9\n",
      "10\n",
      "11\n",
      "12\n",
      "13\n",
      "14\n",
      "15\n",
      "16\n",
      "17\n",
      "18\n",
      "19\n",
      "20\n"
     ]
    },
    {
     "ename": "ValueError",
     "evalue": "cannot reshape array of size 200000 into shape (19,10,100,10,1)",
     "output_type": "error",
     "traceback": [
      "\u001b[0;31m---------------------------------------------------------------------------\u001b[0m",
      "\u001b[0;31mValueError\u001b[0m                                Traceback (most recent call last)",
      "\u001b[0;32m<ipython-input-21-603289e2083a>\u001b[0m in \u001b[0;36m<module>\u001b[0;34m\u001b[0m\n\u001b[1;32m     50\u001b[0m         \u001b[0mtruth\u001b[0m \u001b[0;34m=\u001b[0m \u001b[0mnp\u001b[0m\u001b[0;34m.\u001b[0m\u001b[0mappend\u001b[0m\u001b[0;34m(\u001b[0m\u001b[0mtruth\u001b[0m\u001b[0;34m,\u001b[0m \u001b[0;34m[\u001b[0m\u001b[0mflux_temp\u001b[0m\u001b[0;34m]\u001b[0m\u001b[0;34m,\u001b[0m \u001b[0maxis\u001b[0m\u001b[0;34m=\u001b[0m\u001b[0;36m0\u001b[0m\u001b[0;34m)\u001b[0m\u001b[0;34m\u001b[0m\u001b[0;34m\u001b[0m\u001b[0m\n\u001b[1;32m     51\u001b[0m \u001b[0;34m\u001b[0m\u001b[0m\n\u001b[0;32m---> 52\u001b[0;31m \u001b[0mdata\u001b[0m \u001b[0;34m=\u001b[0m \u001b[0mdata\u001b[0m\u001b[0;34m.\u001b[0m\u001b[0mreshape\u001b[0m\u001b[0;34m(\u001b[0m\u001b[0mLOS_num\u001b[0m\u001b[0;34m-\u001b[0m\u001b[0;36m1\u001b[0m\u001b[0;34m,\u001b[0m \u001b[0;36m10\u001b[0m\u001b[0;34m,\u001b[0m \u001b[0;36m100\u001b[0m\u001b[0;34m,\u001b[0m \u001b[0;36m10\u001b[0m\u001b[0;34m,\u001b[0m \u001b[0;36m1\u001b[0m\u001b[0;34m)\u001b[0m\u001b[0;34m\u001b[0m\u001b[0;34m\u001b[0m\u001b[0m\n\u001b[0m\u001b[1;32m     53\u001b[0m \u001b[0;31m#correction for the future (probably could write this better later to be honest)\u001b[0m\u001b[0;34m\u001b[0m\u001b[0;34m\u001b[0m\u001b[0;34m\u001b[0m\u001b[0m\n\u001b[1;32m     54\u001b[0m \u001b[0mdata\u001b[0m \u001b[0;34m=\u001b[0m \u001b[0mnp\u001b[0m\u001b[0;34m.\u001b[0m\u001b[0mswapaxes\u001b[0m\u001b[0;34m(\u001b[0m\u001b[0mdata\u001b[0m\u001b[0;34m,\u001b[0m \u001b[0;36m2\u001b[0m\u001b[0;34m,\u001b[0m \u001b[0;36m3\u001b[0m\u001b[0;34m)\u001b[0m\u001b[0;34m\u001b[0m\u001b[0;34m\u001b[0m\u001b[0m\n",
      "\u001b[0;31mValueError\u001b[0m: cannot reshape array of size 200000 into shape (19,10,100,10,1)"
     ]
    }
   ],
   "source": [
    "#create dataset\n",
    "data = []\n",
    "truth = []\n",
    "\n",
    "#Each loop picks a skewer, and labels the galaxies near to it. \n",
    "#There is double counting probably if skewers pass near each other, but this is fine\n",
    "#A galaxy can impact more than one LOS\n",
    "LOS_num = 20\n",
    "#parameters for binning. Adjust this to get finer and wider bins\n",
    "distance_along_LOS_bins = 100\n",
    "mass_bins = 10\n",
    "radial_bins = 10\n",
    "\n",
    "for i in np.arange(1,LOS_num+1):\n",
    "    #see how far along this part is\n",
    "    print(i)\n",
    "    #pulling data from galaxies\n",
    "    flux_path = '/data/gnedin/REI/D/Cai.B40.N256L2.sf=1_uv=0.15_bw=10_res=100.WC1/A/a=0.1452/los/los.00' + '{0:03}'.format(i) +'.raw'\n",
    "\n",
    "    temp = get_galaxies(\"/data/gnedin/REI/D/Cai.B40.N256L2.sf=1_uv=0.15_bw=10_res=100.WC1/A/a=0.1452/hprops.res\", flux_path, i)\n",
    "    \n",
    "    #setting up the bins in which we will categorize our galaxies\n",
    "    temp = np.swapaxes(temp, 0, 1)[:, 0:3]\n",
    "    #mass\n",
    "    bin1 = np.logspace(min(temp[:,0]), max(temp[:,0]), mass_bins+1)\n",
    "    #along LOS\n",
    "    bin2 = np.linspace(5,95, distance_along_LOS_bins+1)\n",
    "    #radial distance\n",
    "    bin3 = np.linspace(min(temp[:,2]), max(temp[:,2]), radial_bins+1)\n",
    "    H, edges = np.histogramdd(temp, bins=(bin1, bin2, bin3))\n",
    "    \n",
    "    #pulling truth (what we are trying to predict) from the flux\n",
    "    flux_path = '/data/gnedin/REI/D/Cai.B40.N256L2.sf=1_uv=0.15_bw=10_res=100.WC1/A/a=0.1452/los/los.00' + '{0:03}'.format(i) +'.fHI'\n",
    "\n",
    "    #converting to distance from velocity.\n",
    "    velocity, flux = unPackRawFlux(flux_path)\n",
    "    flux_distance = hubble_flow_convert(velocity, a=0.1452, omega_m=0.3036, omega_lam=0.6964)\n",
    "    \n",
    "    #they are slightly different lengths so we chop off the ends. Because of peculiar velocity we will lose some info\n",
    "    new_flux_distance = np.linspace(5,95, 16000)\n",
    "    new_flux = resample(flux_distance, flux, new_flux_distance)\n",
    "    \n",
    "    flux_temp = new_flux.reshape(int(new_flux.shape[0]/160), 160).mean(axis=1)\n",
    "    \n",
    "    if len(data)==0:\n",
    "        data = np.array([H])\n",
    "        truth = np.array([flux_temp])\n",
    "    else:\n",
    "        data = np.append(data, [H], axis=0)\n",
    "        truth = np.append(truth, [flux_temp], axis=0)\n",
    "\n",
    "data = data.reshape(LOS_num-1, 10, 100, 10, 1)\n",
    "#correction for the future (probably could write this better later to be honest)\n",
    "data = np.swapaxes(data, 2, 3)\n",
    "\n",
    "#Now we have a data array, and truth array to test it against"
   ]
  },
  {
   "cell_type": "code",
   "execution_count": 20,
   "metadata": {},
   "outputs": [
    {
     "name": "stdout",
     "output_type": "stream",
     "text": [
      "(19, 100)\n",
      "(19, 10, 10, 100, 1)\n"
     ]
    }
   ],
   "source": [
    "#check shapes\n",
    "print(truth.shape)\n",
    "print(data.shape)"
   ]
  },
  {
   "cell_type": "code",
   "execution_count": 14,
   "metadata": {},
   "outputs": [],
   "source": [
    "tf.compat.v1.reset_default_graph()\n",
    "\n",
    "def build_and_compile_model():\n",
    "    model = keras.Sequential([\n",
    "        keras.layers.InputLayer(input_shape=(10, 10, distance_along_LOS_bins, 1)),\n",
    "        keras.layers.Conv3D(filters=1, kernel_size=(mass_bins, 1, 1)),\n",
    "        keras.layers.Conv3D(filters=1, kernel_size=(1, radial_bins, 1)),\n",
    "        keras.layers.Flatten(),\n",
    "        keras.layers.Dense(100),\n",
    "\n",
    "    ])\n",
    "    \n",
    "    model.compile(loss='mean_squared_error',\n",
    "                optimizer=keras.optimizers.Adam(0.0005))\n",
    "    \n",
    "    return model"
   ]
  },
  {
   "cell_type": "code",
   "execution_count": 15,
   "metadata": {},
   "outputs": [
    {
     "name": "stdout",
     "output_type": "stream",
     "text": [
      "Model: \"sequential\"\n",
      "_________________________________________________________________\n",
      "Layer (type)                 Output Shape              Param #   \n",
      "=================================================================\n",
      "conv3d (Conv3D)              (None, 1, 10, 100, 1)     11        \n",
      "_________________________________________________________________\n",
      "conv3d_1 (Conv3D)            (None, 1, 1, 100, 1)      11        \n",
      "_________________________________________________________________\n",
      "flatten (Flatten)            (None, 100)               0         \n",
      "_________________________________________________________________\n",
      "dense (Dense)                (None, 100)               10100     \n",
      "=================================================================\n",
      "Total params: 10,122\n",
      "Trainable params: 10,122\n",
      "Non-trainable params: 0\n",
      "_________________________________________________________________\n"
     ]
    }
   ],
   "source": [
    "#build NN and check that it worked, and all dimensions are right\n",
    "galaxies_spikes = build_and_compile_model()\n",
    "galaxies_spikes.summary()"
   ]
  },
  {
   "cell_type": "code",
   "execution_count": 16,
   "metadata": {},
   "outputs": [
    {
     "name": "stdout",
     "output_type": "stream",
     "text": [
      "Train on 1 samples\n",
      "Epoch 1/100\n",
      "1/1 [==============================] - 0s 365ms/sample - loss: 0.0017\n",
      "Epoch 2/100\n",
      "1/1 [==============================] - 0s 5ms/sample - loss: 0.0017\n",
      "Epoch 3/100\n",
      "1/1 [==============================] - 0s 4ms/sample - loss: 0.0016\n",
      "Epoch 4/100\n",
      "1/1 [==============================] - 0s 4ms/sample - loss: 0.0016\n",
      "Epoch 5/100\n",
      "1/1 [==============================] - 0s 4ms/sample - loss: 0.0016\n",
      "Epoch 6/100\n",
      "1/1 [==============================] - 0s 4ms/sample - loss: 0.0016\n",
      "Epoch 7/100\n",
      "1/1 [==============================] - 0s 3ms/sample - loss: 0.0016\n",
      "Epoch 8/100\n",
      "1/1 [==============================] - 0s 3ms/sample - loss: 0.0015\n",
      "Epoch 9/100\n",
      "1/1 [==============================] - 0s 3ms/sample - loss: 0.0015\n",
      "Epoch 10/100\n",
      "1/1 [==============================] - 0s 3ms/sample - loss: 0.0015\n",
      "Epoch 11/100\n",
      "1/1 [==============================] - 0s 3ms/sample - loss: 0.0015\n",
      "Epoch 12/100\n",
      "1/1 [==============================] - 0s 3ms/sample - loss: 0.0014\n",
      "Epoch 13/100\n",
      "1/1 [==============================] - 0s 3ms/sample - loss: 0.0014\n",
      "Epoch 14/100\n",
      "1/1 [==============================] - 0s 3ms/sample - loss: 0.0014\n",
      "Epoch 15/100\n",
      "1/1 [==============================] - 0s 3ms/sample - loss: 0.0013\n",
      "Epoch 16/100\n",
      "1/1 [==============================] - 0s 3ms/sample - loss: 0.0013\n",
      "Epoch 17/100\n",
      "1/1 [==============================] - 0s 3ms/sample - loss: 0.0013\n",
      "Epoch 18/100\n",
      "1/1 [==============================] - 0s 3ms/sample - loss: 0.0012\n",
      "Epoch 19/100\n",
      "1/1 [==============================] - 0s 3ms/sample - loss: 0.0012\n",
      "Epoch 20/100\n",
      "1/1 [==============================] - 0s 3ms/sample - loss: 0.0012\n",
      "Epoch 21/100\n",
      "1/1 [==============================] - 0s 3ms/sample - loss: 0.0011\n",
      "Epoch 22/100\n",
      "1/1 [==============================] - 0s 3ms/sample - loss: 0.0011\n",
      "Epoch 23/100\n",
      "1/1 [==============================] - 0s 3ms/sample - loss: 0.0011\n",
      "Epoch 24/100\n",
      "1/1 [==============================] - 0s 3ms/sample - loss: 0.0010\n",
      "Epoch 25/100\n",
      "1/1 [==============================] - 0s 3ms/sample - loss: 9.8347e-04\n",
      "Epoch 26/100\n",
      "1/1 [==============================] - 0s 3ms/sample - loss: 9.4351e-04\n",
      "Epoch 27/100\n",
      "1/1 [==============================] - 0s 3ms/sample - loss: 9.0313e-04\n",
      "Epoch 28/100\n",
      "1/1 [==============================] - 0s 3ms/sample - loss: 8.6246e-04\n",
      "Epoch 29/100\n",
      "1/1 [==============================] - 0s 3ms/sample - loss: 8.2163e-04\n",
      "Epoch 30/100\n",
      "1/1 [==============================] - 0s 3ms/sample - loss: 7.8078e-04\n",
      "Epoch 31/100\n",
      "1/1 [==============================] - 0s 2ms/sample - loss: 7.4002e-04\n",
      "Epoch 32/100\n",
      "1/1 [==============================] - 0s 2ms/sample - loss: 6.9950e-04\n",
      "Epoch 33/100\n",
      "1/1 [==============================] - 0s 2ms/sample - loss: 6.5935e-04\n",
      "Epoch 34/100\n",
      "1/1 [==============================] - 0s 2ms/sample - loss: 6.1970e-04\n",
      "Epoch 35/100\n",
      "1/1 [==============================] - 0s 3ms/sample - loss: 5.8067e-04\n",
      "Epoch 36/100\n",
      "1/1 [==============================] - 0s 3ms/sample - loss: 5.4240e-04\n",
      "Epoch 37/100\n",
      "1/1 [==============================] - 0s 3ms/sample - loss: 5.0501e-04\n",
      "Epoch 38/100\n",
      "1/1 [==============================] - 0s 3ms/sample - loss: 4.6865e-04\n",
      "Epoch 39/100\n",
      "1/1 [==============================] - 0s 2ms/sample - loss: 4.3345e-04\n",
      "Epoch 40/100\n",
      "1/1 [==============================] - 0s 3ms/sample - loss: 3.9958e-04\n",
      "Epoch 41/100\n",
      "1/1 [==============================] - 0s 2ms/sample - loss: 3.6720e-04\n",
      "Epoch 42/100\n",
      "1/1 [==============================] - 0s 2ms/sample - loss: 3.3646e-04\n",
      "Epoch 43/100\n",
      "1/1 [==============================] - 0s 2ms/sample - loss: 3.0751e-04\n",
      "Epoch 44/100\n",
      "1/1 [==============================] - 0s 2ms/sample - loss: 2.8045e-04\n",
      "Epoch 45/100\n",
      "1/1 [==============================] - 0s 2ms/sample - loss: 2.5539e-04\n",
      "Epoch 46/100\n",
      "1/1 [==============================] - 0s 2ms/sample - loss: 2.3234e-04\n",
      "Epoch 47/100\n",
      "1/1 [==============================] - 0s 2ms/sample - loss: 2.1129e-04\n",
      "Epoch 48/100\n",
      "1/1 [==============================] - 0s 2ms/sample - loss: 1.9220e-04\n",
      "Epoch 49/100\n",
      "1/1 [==============================] - 0s 2ms/sample - loss: 1.7497e-04\n",
      "Epoch 50/100\n",
      "1/1 [==============================] - 0s 2ms/sample - loss: 1.5946e-04\n",
      "Epoch 51/100\n",
      "1/1 [==============================] - 0s 2ms/sample - loss: 1.4555e-04\n",
      "Epoch 52/100\n",
      "1/1 [==============================] - 0s 2ms/sample - loss: 1.3308e-04\n",
      "Epoch 53/100\n",
      "1/1 [==============================] - 0s 2ms/sample - loss: 1.2189e-04\n",
      "Epoch 54/100\n",
      "1/1 [==============================] - 0s 2ms/sample - loss: 1.1182e-04\n",
      "Epoch 55/100\n",
      "1/1 [==============================] - 0s 2ms/sample - loss: 1.0272e-04\n",
      "Epoch 56/100\n",
      "1/1 [==============================] - 0s 2ms/sample - loss: 9.4438e-05\n",
      "Epoch 57/100\n",
      "1/1 [==============================] - 0s 2ms/sample - loss: 8.6839e-05\n",
      "Epoch 58/100\n",
      "1/1 [==============================] - 0s 2ms/sample - loss: 7.9800e-05\n",
      "Epoch 59/100\n",
      "1/1 [==============================] - 0s 2ms/sample - loss: 7.3219e-05\n",
      "Epoch 60/100\n",
      "1/1 [==============================] - 0s 2ms/sample - loss: 6.7019e-05\n",
      "Epoch 61/100\n",
      "1/1 [==============================] - 0s 2ms/sample - loss: 6.1149e-05\n",
      "Epoch 62/100\n",
      "1/1 [==============================] - 0s 2ms/sample - loss: 5.5574e-05\n",
      "Epoch 63/100\n",
      "1/1 [==============================] - 0s 2ms/sample - loss: 5.0278e-05\n",
      "Epoch 64/100\n",
      "1/1 [==============================] - 0s 2ms/sample - loss: 4.5258e-05\n",
      "Epoch 65/100\n",
      "1/1 [==============================] - 0s 2ms/sample - loss: 4.0526e-05\n",
      "Epoch 66/100\n",
      "1/1 [==============================] - 0s 2ms/sample - loss: 3.6099e-05\n",
      "Epoch 67/100\n",
      "1/1 [==============================] - 0s 2ms/sample - loss: 3.2002e-05\n",
      "Epoch 68/100\n",
      "1/1 [==============================] - 0s 2ms/sample - loss: 2.8257e-05\n",
      "Epoch 69/100\n",
      "1/1 [==============================] - 0s 2ms/sample - loss: 2.4878e-05\n",
      "Epoch 70/100\n",
      "1/1 [==============================] - 0s 2ms/sample - loss: 2.1866e-05\n",
      "Epoch 71/100\n",
      "1/1 [==============================] - 0s 2ms/sample - loss: 1.9210e-05\n",
      "Epoch 72/100\n",
      "1/1 [==============================] - 0s 2ms/sample - loss: 1.6886e-05\n",
      "Epoch 73/100\n",
      "1/1 [==============================] - 0s 2ms/sample - loss: 1.4866e-05\n",
      "Epoch 74/100\n",
      "1/1 [==============================] - 0s 2ms/sample - loss: 1.3115e-05\n",
      "Epoch 75/100\n",
      "1/1 [==============================] - 0s 2ms/sample - loss: 1.1600e-05\n",
      "Epoch 76/100\n",
      "1/1 [==============================] - 0s 2ms/sample - loss: 1.0289e-05\n",
      "Epoch 77/100\n",
      "1/1 [==============================] - 0s 2ms/sample - loss: 9.1502e-06\n",
      "Epoch 78/100\n",
      "1/1 [==============================] - 0s 2ms/sample - loss: 8.1545e-06\n",
      "Epoch 79/100\n",
      "1/1 [==============================] - 0s 2ms/sample - loss: 7.2745e-06\n",
      "Epoch 80/100\n",
      "1/1 [==============================] - 0s 2ms/sample - loss: 6.4871e-06\n",
      "Epoch 81/100\n",
      "1/1 [==============================] - 0s 2ms/sample - loss: 5.7739e-06\n",
      "Epoch 82/100\n",
      "1/1 [==============================] - 0s 2ms/sample - loss: 5.1215e-06\n",
      "Epoch 83/100\n",
      "1/1 [==============================] - 0s 2ms/sample - loss: 4.5211e-06\n",
      "Epoch 84/100\n",
      "1/1 [==============================] - 0s 2ms/sample - loss: 3.9677e-06\n",
      "Epoch 85/100\n",
      "1/1 [==============================] - 0s 2ms/sample - loss: 3.4594e-06\n",
      "Epoch 86/100\n",
      "1/1 [==============================] - 0s 2ms/sample - loss: 2.9959e-06\n",
      "Epoch 87/100\n",
      "1/1 [==============================] - 0s 2ms/sample - loss: 2.5779e-06\n",
      "Epoch 88/100\n",
      "1/1 [==============================] - 0s 2ms/sample - loss: 2.2063e-06\n",
      "Epoch 89/100\n",
      "1/1 [==============================] - 0s 2ms/sample - loss: 1.8814e-06\n",
      "Epoch 90/100\n",
      "1/1 [==============================] - 0s 2ms/sample - loss: 1.6028e-06\n",
      "Epoch 91/100\n",
      "1/1 [==============================] - 0s 2ms/sample - loss: 1.3690e-06\n",
      "Epoch 92/100\n",
      "1/1 [==============================] - 0s 2ms/sample - loss: 1.1775e-06\n",
      "Epoch 93/100\n",
      "1/1 [==============================] - 0s 2ms/sample - loss: 1.0252e-06\n",
      "Epoch 94/100\n",
      "1/1 [==============================] - 0s 2ms/sample - loss: 9.0810e-07\n",
      "Epoch 95/100\n",
      "1/1 [==============================] - 0s 2ms/sample - loss: 8.2150e-07\n",
      "Epoch 96/100\n",
      "1/1 [==============================] - 0s 2ms/sample - loss: 7.6006e-07\n",
      "Epoch 97/100\n",
      "1/1 [==============================] - 0s 2ms/sample - loss: 7.1786e-07\n",
      "Epoch 98/100\n",
      "1/1 [==============================] - 0s 2ms/sample - loss: 6.8872e-07\n"
     ]
    },
    {
     "name": "stdout",
     "output_type": "stream",
     "text": [
      "Epoch 99/100\n",
      "1/1 [==============================] - 0s 2ms/sample - loss: 6.6676e-07\n",
      "Epoch 100/100\n",
      "1/1 [==============================] - 0s 2ms/sample - loss: 6.4703e-07\n"
     ]
    }
   ],
   "source": [
    "#train\n",
    "history = galaxies_spikes.fit(data, truth, epochs=100)"
   ]
  },
  {
   "cell_type": "code",
   "execution_count": 17,
   "metadata": {},
   "outputs": [
    {
     "data": {
      "image/png": "[encoded data removed]",
      "text/plain": [
       "<Figure size 432x288 with 1 Axes>"
      ]
     },
     "metadata": {
      "needs_background": "light"
     },
     "output_type": "display_data"
    }
   ],
   "source": [
    "def plot_loss(history):\n",
    "    plt.plot(history.history['loss'], label='loss')\n",
    "    plt.xlabel('Epoch')\n",
    "    plt.ylabel('Error')\n",
    "    plt.legend()\n",
    "    plt.grid(True)\n",
    "plot_loss(history)"
   ]
  },
  {
   "cell_type": "code",
   "execution_count": 18,
   "metadata": {},
   "outputs": [
    {
     "name": "stdout",
     "output_type": "stream",
     "text": [
      "(1, 100)\n"
     ]
    },
    {
     "data": {
      "image/png": "[encoded data removed]",
      "text/plain": [
       "<Figure size 432x288 with 1 Axes>"
      ]
     },
     "metadata": {
      "needs_background": "light"
     },
     "output_type": "display_data"
    }
   ],
   "source": [
    "#see if the predictions are actually working. Note, we didn't set aside test data yet.\n",
    "#I haven't gotten anything to work, so I'm skipping that for now\n",
    "pred = galaxies_spikes.predict(data)\n",
    "print(pred.shape)\n",
    "plt.plot(pred[0,:]*1)\n",
    "plt.plot(truth[0,:])\n",
    "plt.show()"
   ]
  },
  {
   "cell_type": "code",
   "execution_count": null,
   "metadata": {},
   "outputs": [],
   "source": []
  }
 ],
 "metadata": {
  "kernelspec": {
   "display_name": "Python 3",
   "language": "python",
   "name": "python3"
  },
  "language_info": {
   "codemirror_mode": {
    "name": "ipython",
    "version": 3
   },
   "file_extension": ".py",
   "mimetype": "text/x-python",
   "name": "python",
   "nbconvert_exporter": "python",
   "pygments_lexer": "ipython3",
   "version": "3.7.6"
  }
 },
 "nbformat": 4,
 "nbformat_minor": 4
}
